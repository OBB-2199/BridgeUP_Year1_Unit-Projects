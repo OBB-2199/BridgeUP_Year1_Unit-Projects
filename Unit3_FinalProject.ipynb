{
 "cells": [
  {
   "cell_type": "markdown",
   "metadata": {},
   "source": [
    "# Unit 3 Final Projects: Calculating evolutionary distance\n",
    "\n",
    "In this notebook you will compare the sequence of a particular gene from 3 different species to find out which two are most closely related. \n",
    "\n",
    "You will need to do the following:\n",
    "1. Open and read in your files\n",
    "2. Decide which sequences to compare (DNA, RNA, or protein)\n",
    "3. Write code that prints out the percent similarity of each pair of sequences"
   ]
  },
  {
   "cell_type": "code",
   "execution_count": 18,
   "metadata": {},
   "outputs": [],
   "source": [
    "manatee = open(\"4a_CYTB_DNA.txt\").read()\n",
    "dolphin = open(\"4b_CYTB_DNA.txt\").read()\n",
    "cow = open(\"4c_CYTB_DNA.txt\").read()"
   ]
  },
  {
   "cell_type": "code",
   "execution_count": 19,
   "metadata": {},
   "outputs": [
    {
     "name": "stdout",
     "output_type": "stream",
     "text": [
      "76.49122807017544\n"
     ]
    }
   ],
   "source": [
    "sims=0\n",
    "\n",
    "for c,m in enumerate(manatee):\n",
    "    if dolphin[c] == m:\n",
    "        sims+=1\n",
    "        \n",
    "per_simMD= ((sims*100)/len(manatee))\n",
    "print(per_simMD)"
   ]
  },
  {
   "cell_type": "code",
   "execution_count": 20,
   "metadata": {},
   "outputs": [
    {
     "name": "stdout",
     "output_type": "stream",
     "text": [
      "76.05263157894737\n"
     ]
    }
   ],
   "source": [
    "sims=0\n",
    "\n",
    "for c,m in enumerate(manatee):\n",
    "    if cow[c] == m:\n",
    "        sims+=1\n",
    "        \n",
    "per_simMC= ((sims*100)/len(manatee))\n",
    "print(per_simMC)"
   ]
  },
  {
   "cell_type": "code",
   "execution_count": 21,
   "metadata": {},
   "outputs": [
    {
     "name": "stdout",
     "output_type": "stream",
     "text": [
      "79.21052631578948\n"
     ]
    }
   ],
   "source": [
    "sims=0\n",
    "\n",
    "for c,m in enumerate(dolphin):\n",
    "    if cow[c] == m:\n",
    "        sims+=1\n",
    "        \n",
    "per_simDC = ((sims*100)/len(dolphin))\n",
    "print(per_simDC)"
   ]
  },
  {
   "cell_type": "markdown",
   "metadata": {},
   "source": [
    "## Bonus Challenge\n",
    "\n",
    "Visualize your results! Choose a graph type that you think will communicate your conclusions effectively and create it using matplotlib:"
   ]
  },
  {
   "cell_type": "code",
   "execution_count": 22,
   "metadata": {},
   "outputs": [],
   "source": [
    "import matplotlib.pyplot as plt"
   ]
  },
  {
   "cell_type": "code",
   "execution_count": 36,
   "metadata": {},
   "outputs": [
    {
     "data": {
      "image/png": "[encoded data removed]",
      "text/plain": [
       "<Figure size 432x288 with 1 Axes>"
      ]
     },
     "metadata": {
      "needs_background": "light"
     },
     "output_type": "display_data"
    }
   ],
   "source": [
    "plt.bar([1,2,3],[per_simMC, per_simMD, per_simDC],color = [\"c\",\"mediumseagreen\", \"mediumslateblue\"])\n",
    "plt.title(\"Percent Similarity\")\n",
    "plt.xticks([1,2,3],[\"Manatee vs. Cow\", \"Manatee vs. Dolphin\", \"Dolphin vs. Cow\"])\n",
    "plt.ylim(75.5,80)\n",
    "plt.ylabel(\"Percentage Similarity\")\n",
    "plt.savefig(\"Molecular_Genetics_Final.jpg\")\n",
    "#plt.show"
   ]
  },
  {
   "cell_type": "markdown",
   "metadata": {},
   "source": [
    "## Bonus Challenge 2\n",
    "If you finish your project and want to try a challenge, come up with a hypothesis about which of the following species are most closely related to humans (carp, chicken, chimp, dog, eel, elephant, frog, gorilla, macaque monkey, mouse, orangutan, pig). Write out a ranked list with the species you think is most related to humans at the top.\n",
    "\n",
    "Then calculate the percent difference between the hemoglobin amino acid sequences of humans and each species to find out how close you came to the right ranking!"
   ]
  },
  {
   "cell_type": "code",
   "execution_count": null,
   "metadata": {
    "collapsed": true
   },
   "outputs": [],
   "source": []
  }
 ],
 "metadata": {
  "kernelspec": {
   "display_name": "Python 3",
   "language": "python",
   "name": "python3"
  },
  "language_info": {
   "codemirror_mode": {
    "name": "ipython",
    "version": 3
   },
   "file_extension": ".py",
   "mimetype": "text/x-python",
   "name": "python",
   "nbconvert_exporter": "python",
   "pygments_lexer": "ipython3",
   "version": "3.7.3"
  }
 },
 "nbformat": 4,
 "nbformat_minor": 2
}
