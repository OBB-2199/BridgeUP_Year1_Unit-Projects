{
 "cells": [
  {
   "cell_type": "code",
   "execution_count": 3,
   "metadata": {},
   "outputs": [],
   "source": [
    "#importing our libraries\n",
    "import pandas as pd\n",
    "import numpy as np\n",
    "import matplotlib.pyplot as plt"
   ]
  },
  {
   "cell_type": "code",
   "execution_count": 4,
   "metadata": {},
   "outputs": [],
   "source": [
    "#struthio camelus -- bird name (ostrich)"
   ]
  },
  {
   "cell_type": "code",
   "execution_count": 5,
   "metadata": {},
   "outputs": [],
   "source": [
    "#naming the dataframe\n",
    "df = pd.read_csv(\"bird_dino_data.csv\")"
   ]
  },
  {
   "cell_type": "code",
   "execution_count": 6,
   "metadata": {
    "scrolled": false
   },
   "outputs": [
    {
     "data": {
      "text/html": [
       "<div>\n",
       "<style scoped>\n",
       "    .dataframe tbody tr th:only-of-type {\n",
       "        vertical-align: middle;\n",
       "    }\n",
       "\n",
       "    .dataframe tbody tr th {\n",
       "        vertical-align: top;\n",
       "    }\n",
       "\n",
       "    .dataframe thead th {\n",
       "        text-align: right;\n",
       "    }\n",
       "</style>\n",
       "<table border=\"1\" class=\"dataframe\">\n",
       "  <thead>\n",
       "    <tr style=\"text-align: right;\">\n",
       "      <th></th>\n",
       "      <th>Species ID</th>\n",
       "      <th>Bird vs Dino</th>\n",
       "      <th>Body Mass (kg)</th>\n",
       "      <th>Olfactory bulbs (cm3)</th>\n",
       "      <th>Cerebrum (cm3)</th>\n",
       "      <th>Optic Lobes (cm3)</th>\n",
       "      <th>Cerebellum (cm3)</th>\n",
       "      <th>Brain Stem (cm3)</th>\n",
       "      <th>Brain Volume (cm3)</th>\n",
       "    </tr>\n",
       "  </thead>\n",
       "  <tbody>\n",
       "    <tr>\n",
       "      <th>0</th>\n",
       "      <td>1</td>\n",
       "      <td>B</td>\n",
       "      <td>0.02</td>\n",
       "      <td>0.009</td>\n",
       "      <td>1.53</td>\n",
       "      <td>0.20</td>\n",
       "      <td>0.16</td>\n",
       "      <td>0.06</td>\n",
       "      <td>1.96</td>\n",
       "    </tr>\n",
       "    <tr>\n",
       "      <th>1</th>\n",
       "      <td>2</td>\n",
       "      <td>B</td>\n",
       "      <td>1.26</td>\n",
       "      <td>0.006</td>\n",
       "      <td>16.81</td>\n",
       "      <td>2.84</td>\n",
       "      <td>1.70</td>\n",
       "      <td>0.68</td>\n",
       "      <td>22.04</td>\n",
       "    </tr>\n",
       "    <tr>\n",
       "      <th>2</th>\n",
       "      <td>3</td>\n",
       "      <td>B</td>\n",
       "      <td>2.18</td>\n",
       "      <td>0.026</td>\n",
       "      <td>11.08</td>\n",
       "      <td>1.95</td>\n",
       "      <td>0.89</td>\n",
       "      <td>1.15</td>\n",
       "      <td>15.10</td>\n",
       "    </tr>\n",
       "    <tr>\n",
       "      <th>3</th>\n",
       "      <td>4</td>\n",
       "      <td>D</td>\n",
       "      <td>0.25</td>\n",
       "      <td>0.050</td>\n",
       "      <td>0.41</td>\n",
       "      <td>0.16</td>\n",
       "      <td>0.09</td>\n",
       "      <td>0.12</td>\n",
       "      <td>0.83</td>\n",
       "    </tr>\n",
       "    <tr>\n",
       "      <th>4</th>\n",
       "      <td>5</td>\n",
       "      <td>B</td>\n",
       "      <td>0.01</td>\n",
       "      <td>0.003</td>\n",
       "      <td>1.57</td>\n",
       "      <td>0.20</td>\n",
       "      <td>0.34</td>\n",
       "      <td>0.08</td>\n",
       "      <td>2.19</td>\n",
       "    </tr>\n",
       "    <tr>\n",
       "      <th>5</th>\n",
       "      <td>6</td>\n",
       "      <td>D</td>\n",
       "      <td>85.96</td>\n",
       "      <td>0.569</td>\n",
       "      <td>9.52</td>\n",
       "      <td>3.60</td>\n",
       "      <td>5.16</td>\n",
       "      <td>3.78</td>\n",
       "      <td>22.63</td>\n",
       "    </tr>\n",
       "    <tr>\n",
       "      <th>6</th>\n",
       "      <td>7</td>\n",
       "      <td>D</td>\n",
       "      <td>0.50</td>\n",
       "      <td>0.077</td>\n",
       "      <td>0.60</td>\n",
       "      <td>0.36</td>\n",
       "      <td>0.24</td>\n",
       "      <td>0.17</td>\n",
       "      <td>1.45</td>\n",
       "    </tr>\n",
       "    <tr>\n",
       "      <th>7</th>\n",
       "      <td>8</td>\n",
       "      <td>B</td>\n",
       "      <td>0.90</td>\n",
       "      <td>0.234</td>\n",
       "      <td>5.95</td>\n",
       "      <td>0.99</td>\n",
       "      <td>0.96</td>\n",
       "      <td>0.55</td>\n",
       "      <td>8.68</td>\n",
       "    </tr>\n",
       "    <tr>\n",
       "      <th>8</th>\n",
       "      <td>9</td>\n",
       "      <td>B</td>\n",
       "      <td>0.26</td>\n",
       "      <td>0.027</td>\n",
       "      <td>8.36</td>\n",
       "      <td>1.40</td>\n",
       "      <td>1.63</td>\n",
       "      <td>0.86</td>\n",
       "      <td>12.28</td>\n",
       "    </tr>\n",
       "    <tr>\n",
       "      <th>9</th>\n",
       "      <td>10</td>\n",
       "      <td>D</td>\n",
       "      <td>12.61</td>\n",
       "      <td>0.028</td>\n",
       "      <td>3.71</td>\n",
       "      <td>1.31</td>\n",
       "      <td>1.60</td>\n",
       "      <td>2.17</td>\n",
       "      <td>8.82</td>\n",
       "    </tr>\n",
       "    <tr>\n",
       "      <th>10</th>\n",
       "      <td>11</td>\n",
       "      <td>B</td>\n",
       "      <td>0.17</td>\n",
       "      <td>0.015</td>\n",
       "      <td>6.09</td>\n",
       "      <td>0.88</td>\n",
       "      <td>1.62</td>\n",
       "      <td>0.49</td>\n",
       "      <td>9.10</td>\n",
       "    </tr>\n",
       "    <tr>\n",
       "      <th>11</th>\n",
       "      <td>12</td>\n",
       "      <td>B</td>\n",
       "      <td>0.43</td>\n",
       "      <td>0.206</td>\n",
       "      <td>9.45</td>\n",
       "      <td>1.44</td>\n",
       "      <td>2.40</td>\n",
       "      <td>0.85</td>\n",
       "      <td>14.35</td>\n",
       "    </tr>\n",
       "    <tr>\n",
       "      <th>12</th>\n",
       "      <td>13</td>\n",
       "      <td>B</td>\n",
       "      <td>0.05</td>\n",
       "      <td>0.008</td>\n",
       "      <td>1.63</td>\n",
       "      <td>0.41</td>\n",
       "      <td>0.26</td>\n",
       "      <td>0.17</td>\n",
       "      <td>2.48</td>\n",
       "    </tr>\n",
       "    <tr>\n",
       "      <th>13</th>\n",
       "      <td>14</td>\n",
       "      <td>B</td>\n",
       "      <td>59.30</td>\n",
       "      <td>0.274</td>\n",
       "      <td>36.85</td>\n",
       "      <td>7.61</td>\n",
       "      <td>6.45</td>\n",
       "      <td>5.13</td>\n",
       "      <td>56.31</td>\n",
       "    </tr>\n",
       "  </tbody>\n",
       "</table>\n",
       "</div>"
      ],
      "text/plain": [
       "    Species ID Bird vs Dino  Body Mass (kg)  Olfactory bulbs (cm3)  \\\n",
       "0            1            B            0.02                  0.009   \n",
       "1            2            B            1.26                  0.006   \n",
       "2            3            B            2.18                  0.026   \n",
       "3            4            D            0.25                  0.050   \n",
       "4            5            B            0.01                  0.003   \n",
       "5            6            D           85.96                  0.569   \n",
       "6            7            D            0.50                  0.077   \n",
       "7            8            B            0.90                  0.234   \n",
       "8            9            B            0.26                  0.027   \n",
       "9           10            D           12.61                  0.028   \n",
       "10          11            B            0.17                  0.015   \n",
       "11          12            B            0.43                  0.206   \n",
       "12          13            B            0.05                  0.008   \n",
       "13          14            B           59.30                  0.274   \n",
       "\n",
       "    Cerebrum (cm3)  Optic Lobes (cm3)  Cerebellum (cm3)  Brain Stem (cm3)  \\\n",
       "0             1.53               0.20              0.16              0.06   \n",
       "1            16.81               2.84              1.70              0.68   \n",
       "2            11.08               1.95              0.89              1.15   \n",
       "3             0.41               0.16              0.09              0.12   \n",
       "4             1.57               0.20              0.34              0.08   \n",
       "5             9.52               3.60              5.16              3.78   \n",
       "6             0.60               0.36              0.24              0.17   \n",
       "7             5.95               0.99              0.96              0.55   \n",
       "8             8.36               1.40              1.63              0.86   \n",
       "9             3.71               1.31              1.60              2.17   \n",
       "10            6.09               0.88              1.62              0.49   \n",
       "11            9.45               1.44              2.40              0.85   \n",
       "12            1.63               0.41              0.26              0.17   \n",
       "13           36.85               7.61              6.45              5.13   \n",
       "\n",
       "    Brain Volume (cm3)  \n",
       "0                 1.96  \n",
       "1                22.04  \n",
       "2                15.10  \n",
       "3                 0.83  \n",
       "4                 2.19  \n",
       "5                22.63  \n",
       "6                 1.45  \n",
       "7                 8.68  \n",
       "8                12.28  \n",
       "9                 8.82  \n",
       "10                9.10  \n",
       "11               14.35  \n",
       "12                2.48  \n",
       "13               56.31  "
      ]
     },
     "execution_count": 6,
     "metadata": {},
     "output_type": "execute_result"
    }
   ],
   "source": [
    "#see the first rows\n",
    "df.head(14)"
   ]
  },
  {
   "cell_type": "code",
   "execution_count": 7,
   "metadata": {},
   "outputs": [],
   "source": [
    "#creating seperate dataframes for birds and dinos\n",
    "birds = df.loc[df[\"Bird vs Dino\"] == \"B\"]\n",
    "dinos = df.loc[df[\"Bird vs Dino\"] == \"D\"]"
   ]
  },
  {
   "cell_type": "code",
   "execution_count": 8,
   "metadata": {},
   "outputs": [],
   "source": [
    "#print(dinos)"
   ]
  },
  {
   "cell_type": "code",
   "execution_count": 9,
   "metadata": {},
   "outputs": [],
   "source": [
    "def avg_ratios(df, column1, column2): \n",
    "    # average value of the columns\n",
    "    # column1 = brain volume \n",
    "    #column2 = body mass\n",
    "    avg_col1 = df[column1].mean()\n",
    "    avg_col2 = df[column2].mean()\n",
    "\n",
    "    ratio = avg_col1/avg_col2\n",
    "    \n",
    "    return ratio"
   ]
  },
  {
   "cell_type": "code",
   "execution_count": 10,
   "metadata": {},
   "outputs": [
    {
     "name": "stdout",
     "output_type": "stream",
     "text": [
      "2.8810398417632097 0.3990573448546739\n"
     ]
    }
   ],
   "source": [
    "#brain to body ratios\n",
    "b2bm_bird = avg_ratios(birds, \"Brain Volume (cm3)\",\"Body Mass (kg)\")\n",
    "b2bm_dino = avg_ratios(dinos, \"Brain Volume (cm3)\",\"Body Mass (kg)\")\n",
    "print(b2bm_bird, b2bm_dino)"
   ]
  },
  {
   "cell_type": "code",
   "execution_count": 11,
   "metadata": {},
   "outputs": [
    {
     "name": "stdout",
     "output_type": "stream",
     "text": [
      "0.6781581012161632 0.4851605087825562\n"
     ]
    }
   ],
   "source": [
    "#cerebrum to brain ratios\n",
    "c2b_bird = avg_ratios(birds, \"Cerebrum (cm3)\" ,\"Brain Volume (cm3)\")\n",
    "c2b_dino = avg_ratios(dinos, \"Cerebrum (cm3)\" ,\"Brain Volume (cm3)\")\n",
    "print(c2b_bird, c2b_dino)"
   ]
  },
  {
   "cell_type": "code",
   "execution_count": 12,
   "metadata": {},
   "outputs": [],
   "source": [
    "#function to calculate the body mass\n",
    "def b2bm(df, brain_volume, FL):\n",
    "    #finding body mass with femur length\n",
    "    bodyMass = 10**(3.1854*np.log10(FL)-3.184)/1000\n",
    "    #brain to body mass ratio\n",
    "    b2bm = brain_volume/bodyMass\n",
    "    return b2bm"
   ]
  },
  {
   "cell_type": "code",
   "execution_count": 21,
   "metadata": {},
   "outputs": [],
   "source": [
    "ostrich_b2bm = b2bm(df, 56.31, 315)"
   ]
  },
  {
   "cell_type": "code",
   "execution_count": 14,
   "metadata": {},
   "outputs": [],
   "source": [
    "def bm(df, FL):\n",
    "    #finding body mass with femur length\n",
    "    bodyMass = 10**(3.1854*np.log10(FL)-3.184)/1000\n",
    "    return bodyMass"
   ]
  },
  {
   "cell_type": "code",
   "execution_count": 15,
   "metadata": {},
   "outputs": [
    {
     "data": {
      "text/plain": [
       "59.44542523119209"
      ]
     },
     "execution_count": 15,
     "metadata": {},
     "output_type": "execute_result"
    }
   ],
   "source": [
    "bm(df, 315)"
   ]
  },
  {
   "cell_type": "code",
   "execution_count": 23,
   "metadata": {},
   "outputs": [],
   "source": [
    "ostrich_c2b = (36.85/56.31)"
   ]
  },
  {
   "cell_type": "code",
   "execution_count": 16,
   "metadata": {},
   "outputs": [],
   "source": [
    "def birdOrDino(FL, brainvol, cerebrum):\n",
    "    bodymass = 10**(3.1854*np.log10(FL)-3.184)/1000\n",
    "    b2bm_brain = brainvol/bodymass\n",
    "    c2b_brain = cerebrum/brainvol\n",
    "    is_bird_by_b2bm = abs(b2bm_brain- b2bm_bird) < abs(b2bm_brain-b2bm_dino)\n",
    "    is_bird_by_c2b = abs(c2b_brain- c2b_bird) < abs(c2b_brain-c2b_dino)\n",
    "    if is_bird_by_b2bm and is_bird_by_c2b:\n",
    "            print(\"This brain is probably that of a bird.\")\n",
    "    elif not is_bird_by_b2bm and not is_bird_by_c2b:\n",
    "        print(\"This brain is probably that of a dino.\")\n",
    "    elif is_bird_by_b2bm and not is_bird_by_c2b:\n",
    "        print(\"This brain seems to be a bird by the brain to bodymass ratio and a dinosaur by the cerebrum to brain volume ratio.\")\n",
    "    elif not is_bird_by_b2bm and is_bird_by_c2b:\n",
    "        print(\"This brain seems to be a dinosaur by the brain to bodymass ratio and a bird by the cerebrum to brain volume ratio.\")"
   ]
  },
  {
   "cell_type": "code",
   "execution_count": 19,
   "metadata": {},
   "outputs": [
    {
     "name": "stdout",
     "output_type": "stream",
     "text": [
      "This brain seems to be a dinosaur by the brain to bodymass ratio and a bird by the cerebrum to brain volume ratio.\n"
     ]
    }
   ],
   "source": [
    "birdOrDino(315, 56.31,36.85)"
   ]
  },
  {
   "cell_type": "code",
   "execution_count": 33,
   "metadata": {},
   "outputs": [
    {
     "data": {
      "image/png": "[encoded data removed]",
      "text/plain": [
       "<Figure size 432x288 with 1 Axes>"
      ]
     },
     "metadata": {
      "needs_background": "light"
     },
     "output_type": "display_data"
    }
   ],
   "source": [
    "plt.bar([1,2,3],[b2bm_bird,ostrich_b2bm ,b2bm_dino], color = [\"dodgerblue\", \"sienna\",\"limegreen\"])\n",
    "plt.xticks([1,2,3],[\"Average Bird\", \"Ostrich\", \"Average Dino\"])\n",
    "plt.title(\"Brain to Body Mass Ratio\")\n",
    "plt.ylabel(\"Body Mass (g)\")\n",
    "plt.savefig(\"Brain to Body Mass Ratio.png\")\n",
    "plt.show()"
   ]
  },
  {
   "cell_type": "code",
   "execution_count": 34,
   "metadata": {},
   "outputs": [
    {
     "data": {
      "image/png": "[encoded data removed]",
      "text/plain": [
       "<Figure size 432x288 with 1 Axes>"
      ]
     },
     "metadata": {
      "needs_background": "light"
     },
     "output_type": "display_data"
    }
   ],
   "source": [
    "plt.bar([1,2,3],[c2b_bird,ostrich_c2b ,c2b_dino], color = [\"dodgerblue\", \"sienna\",\"limegreen\"])\n",
    "plt.xticks([1,2,3],[\"Average Bird\", \"Ostrich\", \"Average Dino\"])\n",
    "plt.title(\"Cerebrum to Brain Mass Ratio\")\n",
    "plt.ylabel(\"Mass (g)\")\n",
    "plt.savefig(\"Cerebrum to Brain Mass Ratio.png\")\n",
    "plt.show()"
   ]
  },
  {
   "cell_type": "code",
   "execution_count": null,
   "metadata": {},
   "outputs": [],
   "source": []
  }
 ],
 "metadata": {
  "kernelspec": {
   "display_name": "Python 3",
   "language": "python",
   "name": "python3"
  },
  "language_info": {
   "codemirror_mode": {
    "name": "ipython",
    "version": 3
   },
   "file_extension": ".py",
   "mimetype": "text/x-python",
   "name": "python",
   "nbconvert_exporter": "python",
   "pygments_lexer": "ipython3",
   "version": "3.7.3"
  }
 },
 "nbformat": 4,
 "nbformat_minor": 2
}
