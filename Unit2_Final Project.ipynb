{
 "cells": [
  {
   "cell_type": "code",
   "execution_count": 34,
   "metadata": {},
   "outputs": [],
   "source": [
    "#import needed libraries\n",
    "import numpy as np\n",
    "import matplotlib.pyplot as plt\n",
    "import csv"
   ]
  },
  {
   "cell_type": "code",
   "execution_count": 35,
   "metadata": {},
   "outputs": [],
   "source": [
    "csvFile = open(\"PracticalSalinityUnits_Jan_2015.csv\", 'r') #opening file\n",
    "csvReader = csv.reader(csvFile, delimiter=',')#creating a csv reader\n",
    "data_lists = list(csvReader)# turning the data into a list"
   ]
  },
  {
   "cell_type": "code",
   "execution_count": 36,
   "metadata": {},
   "outputs": [],
   "source": [
    "height = len(data_lists)\n",
    "width = len(data_lists[0])"
   ]
  },
  {
   "cell_type": "code",
   "execution_count": 37,
   "metadata": {},
   "outputs": [],
   "source": [
    "grid = np.empty([height, width, 3], dtype=np.uint8) "
   ]
  },
  {
   "cell_type": "code",
   "execution_count": 38,
   "metadata": {},
   "outputs": [],
   "source": [
    "all_values = [] # We will fill in this empty list with all the data values as we go\n",
    "\n",
    "#r is the row position\n",
    "for r, row in enumerate(data_lists):\n",
    "    # c is the position in the list -- like and index\n",
    "    # when i=1 c=0, i=2 c=1\n",
    "    for c, value in enumerate(row):\n",
    "        if float(value) < 99999:\n",
    "            all_values.append(float(value)) # This is where we fill in the list with all data values\n",
    "        if float(value) <= 30:\n",
    "            grid[r, c] = [157, 255, 0]\n",
    "        elif float(value) <= 31:\n",
    "            grid[r, c] = [204, 255, 0]\n",
    "        elif float(value) <= 32:\n",
    "            grid[r, c] = [255, 225, 0]\n",
    "        elif float(value) <= 33:\n",
    "            grid[r, c] = [255, 183, 0]\n",
    "        elif float(value) <= 34:\n",
    "            grid[r, c] = [255, 140, 0]\n",
    "        elif float(value) <= 35:\n",
    "            grid[r, c] = [255, 89, 0]\n",
    "        elif float(value) <= 36:\n",
    "            grid[r, c] = [255, 64, 0]\n",
    "        elif float(value) <= 37:\n",
    "            grid[r, c] = [255, 30, 0]\n",
    "        elif float(value) <= 38:\n",
    "            grid[r, c] = [255, 0, 0]\n",
    "        else:\n",
    "            grid[r, c] = [0,0,0]"
   ]
  },
  {
   "cell_type": "code",
   "execution_count": 39,
   "metadata": {},
   "outputs": [
    {
     "name": "stdout",
     "output_type": "stream",
     "text": [
      "38.0\n",
      "30.0\n"
     ]
    }
   ],
   "source": [
    "print(max(all_values))\n",
    "print(min(all_values))"
   ]
  },
  {
   "cell_type": "code",
   "execution_count": 43,
   "metadata": {},
   "outputs": [
    {
     "data": {
      "image/png": "[encoded data removed]",
      "text/plain": [
       "<Figure size 432x288 with 1 Axes>"
      ]
     },
     "metadata": {
      "needs_background": "light"
     },
     "output_type": "display_data"
    }
   ],
   "source": [
    "plt.title(\"Global Salinity 2015\")\n",
    "plt.imshow(grid)\n",
    "plt.axis('off')\n",
    "plt.savefig(\"Salinity2015.png\",dpi = 1000)\n",
    "plt.show()"
   ]
  },
  {
   "cell_type": "code",
   "execution_count": 47,
   "metadata": {},
   "outputs": [],
   "source": [
    "csvFile = open(\"PracticalSalinityUnits_Dec_2011.csv\", 'r') #opening file\n",
    "csvReader = csv.reader(csvFile, delimiter=',')#creating a csv reader\n",
    "data_lists2 = list(csvReader)# turning the data into a list"
   ]
  },
  {
   "cell_type": "code",
   "execution_count": 48,
   "metadata": {},
   "outputs": [],
   "source": [
    "height = len(data_lists)\n",
    "width = len(data_lists[0])"
   ]
  },
  {
   "cell_type": "code",
   "execution_count": 49,
   "metadata": {},
   "outputs": [],
   "source": [
    "grid = np.empty([height, width, 3], dtype=np.uint8) "
   ]
  },
  {
   "cell_type": "code",
   "execution_count": 50,
   "metadata": {},
   "outputs": [],
   "source": [
    "all_values2 = [] # We will fill in this empty list with all the data values as we go\n",
    "\n",
    "#r is the row position\n",
    "for r, row in enumerate(data_lists2):\n",
    "    # c is the position in the list -- like and index\n",
    "    # when i=1 c=0, i=2 c=1\n",
    "    for c, value in enumerate(row):\n",
    "        if float(value) < 99999:\n",
    "            all_values2.append(float(value)) # This is where we fill in the list with all data values\n",
    "        if float(value) <= 30:\n",
    "            grid[r, c] = [157, 255, 0]\n",
    "        elif float(value) <= 31:\n",
    "            grid[r, c] = [204, 255, 0]\n",
    "        elif float(value) <= 32:\n",
    "            grid[r, c] = [255, 225, 0]\n",
    "        elif float(value) <= 33:\n",
    "            grid[r, c] = [255, 183, 0]\n",
    "        elif float(value) <= 34:\n",
    "            grid[r, c] = [255, 140, 0]\n",
    "        elif float(value) <= 35:\n",
    "            grid[r, c] = [255, 89, 0]\n",
    "        elif float(value) <= 36:\n",
    "            grid[r, c] = [255, 64, 0]\n",
    "        elif float(value) <= 37:\n",
    "            grid[r, c] = [255, 30, 0]\n",
    "        elif float(value) <= 38:\n",
    "            grid[r, c] = [255, 0, 0]\n",
    "        else:\n",
    "            grid[r, c] = [0,0,0]"
   ]
  },
  {
   "cell_type": "code",
   "execution_count": 51,
   "metadata": {},
   "outputs": [
    {
     "name": "stdout",
     "output_type": "stream",
     "text": [
      "38.0\n",
      "30.0\n"
     ]
    }
   ],
   "source": [
    "print(max(all_values2))\n",
    "print(min(all_values2))"
   ]
  },
  {
   "cell_type": "code",
   "execution_count": 53,
   "metadata": {},
   "outputs": [
    {
     "data": {
      "image/png": "[encoded data removed]",
      "text/plain": [
       "<Figure size 432x288 with 1 Axes>"
      ]
     },
     "metadata": {
      "needs_background": "light"
     },
     "output_type": "display_data"
    }
   ],
   "source": [
    "plt.title(\"Global Salinity 2011\")\n",
    "plt.imshow(grid)\n",
    "plt.axis('off')\n",
    "plt.savefig(\"Salinity2011.png\",dpi = 1000)\n",
    "plt.show()"
   ]
  },
  {
   "cell_type": "code",
   "execution_count": null,
   "metadata": {},
   "outputs": [],
   "source": []
  },
  {
   "cell_type": "code",
   "execution_count": null,
   "metadata": {},
   "outputs": [],
   "source": []
  }
 ],
 "metadata": {
  "kernelspec": {
   "display_name": "Python 3",
   "language": "python",
   "name": "python3"
  },
  "language_info": {
   "codemirror_mode": {
    "name": "ipython",
    "version": 3
   },
   "file_extension": ".py",
   "mimetype": "text/x-python",
   "name": "python",
   "nbconvert_exporter": "python",
   "pygments_lexer": "ipython3",
   "version": "3.7.3"
  }
 },
 "nbformat": 4,
 "nbformat_minor": 2
}
